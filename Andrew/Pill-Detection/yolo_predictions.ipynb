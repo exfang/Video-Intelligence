{
 "cells": [
  {
   "cell_type": "markdown",
   "id": "7800d253",
   "metadata": {},
   "source": [
    "This is a python file to interact with the model trained on Google Collab. It will take in a live feedback and perform pill detection on the uploaded image. Afterward, it automatically generates the text file containing all records within the image."
   ]
  },
  {
   "cell_type": "code",
   "execution_count": 1,
   "id": "23c61733",
   "metadata": {},
   "outputs": [],
   "source": [
    "# computer vision\n",
    "import cv2\n",
    "import numpy as np\n",
    "import os\n",
    "import yaml\n",
    "from yaml.loader import SafeLoader"
   ]
  },
  {
   "cell_type": "code",
   "execution_count": 2,
   "id": "0640f389",
   "metadata": {},
   "outputs": [],
   "source": [
    "# Open the data.yaml file which contains the different pill classes.\n",
    "with open('data.yaml', mode='r') as f:\n",
    "    data_yaml = yaml.load(f, Loader=SafeLoader)\n",
    "\n",
    "# Retrieve the classes.\n",
    "labels = data_yaml['names']\n",
    "\n",
    "# Load YOLO Model trained on Google Collab.\n",
    "yolo = cv2.dnn.readNetFromONNX('./Model/weights/best.onnx')\n",
    "yolo.setPreferableBackend(cv2.dnn.DNN_BACKEND_OPENCV)\n",
    "yolo.setPreferableTarget(cv2.dnn.DNN_TARGET_CPU)"
   ]
  },
  {
   "cell_type": "code",
   "execution_count": 5,
   "id": "a89a5746",
   "metadata": {},
   "outputs": [],
   "source": [
    "# Load the Image\n",
    "img = cv2.imread('test_pills.jpeg')\n",
    "image = img.copy()\n",
    "\n",
    "# Retrieve image shape\n",
    "row, col, d = image.shape\n",
    "\n",
    "# Step 1: Convert image into square image (array)\n",
    "max_rc = max(row, col)\n",
    "input_image = np.zeros((max_rc, max_rc,3), dtype=np.uint8)\n",
    "input_image[0:row, 0:col] = image\n",
    "\n",
    "# Step 2: Get prediction from square array\n",
    "INPUT_WH_YOLO = 640\n",
    "blob = cv2.dnn.blobFromImage(input_image, 1/255, (INPUT_WH_YOLO, INPUT_WH_YOLO), swapRB=True, crop=False)\n",
    "yolo.setInput(blob)\n",
    "preds = yolo.forward()\n",
    "# print(preds.shape)"
   ]
  },
  {
   "cell_type": "code",
   "execution_count": 12,
   "id": "082bca82",
   "metadata": {},
   "outputs": [],
   "source": [
    "# Non Maxixmum Suppression\n",
    "\n",
    "# preds[0] - model makes 25k predictions on the image, stored in preds[0]\n",
    "detections = preds[0]\n",
    "boxes = []\n",
    "confidences = []\n",
    "classes = []\n",
    "\n",
    "# width and height of the image\n",
    "image_w, image_h = input_image.shape[:2]\n",
    "x_factor = image_w/INPUT_WH_YOLO\n",
    "y_factor = image_h/INPUT_WH_YOLO\n",
    "\n",
    "# for each prediction made by the model, filter the detection based on the confidence (0.5) and probability score (0.5)\n",
    "for i in range(len(detections)):\n",
    "    row = detections[i]\n",
    "    confidence = row[4] # confidence of detecting an object\n",
    "    if confidence > 0.5:\n",
    "        class_score = row[5:].max() # maximum probability\n",
    "        class_id = row[5:].argmax( ) # retrieve the class ID with the highest probability\n",
    "        \n",
    "        if class_score > 0.5:\n",
    "            cx, cy, w, h = row[0:4]\n",
    "            \n",
    "            # construct bounding from four values\n",
    "            # left, top, width and height\n",
    "            left = int((cx-0.5*w)*x_factor)\n",
    "            top = int((cy-0.5*h)*y_factor)\n",
    "            width = int(w*x_factor)\n",
    "            height = int(h*y_factor)\n",
    "            \n",
    "            box = np.array([left,top,width,height])\n",
    "            \n",
    "            # stores all the confidence values into the list\n",
    "            confidences.append(confidence)\n",
    "            \n",
    "            # stores all the bounding boxes for the predictions\n",
    "            boxes.append(box)\n",
    "            classes.append(class_id)\n",
    "\n",
    "# convert the arrays to list\n",
    "boxes_np = np.array(boxes).tolist()\n",
    "confidences_np = np.array(confidences).tolist()\n",
    "\n",
    "# stores all the bounding box IDs\n",
    "index = cv2.dnn.NMSBoxes(boxes_np, confidences_np, 0.5, 0.5).flatten()"
   ]
  },
  {
   "cell_type": "code",
   "execution_count": 19,
   "id": "2d8ac42a",
   "metadata": {},
   "outputs": [
    {
     "name": "stdout",
     "output_type": "stream",
     "text": [
      "[[523, 771, 175, 191], [525, 766, 174, 189], [518, 778, 176, 185], [591, 911, 170, 176], [586, 917, 172, 186], [588, 910, 172, 191], [526, 776, 168, 178], [526, 764, 177, 186], [680, 735, 260, 248], [689, 727, 259, 253], [517, 782, 179, 172], [577, 910, 180, 174], [593, 913, 169, 172], [581, 920, 174, 178], [591, 911, 167, 178], [735, 989, 282, 270], [748, 982, 296, 267], [521, 772, 173, 178], [522, 771, 170, 180], [691, 741, 241, 239], [682, 739, 252, 243], [519, 772, 175, 182], [689, 746, 242, 230], [589, 911, 169, 185], [585, 911, 173, 185], [579, 912, 181, 188], [383, 869, 305, 469], [758, 956, 253, 296], [752, 956, 290, 302], [775, 948, 276, 316], [399, 895, 304, 500], [754, 960, 289, 302], [520, 771, 177, 177], [524, 770, 169, 183], [694, 741, 235, 239], [690, 741, 238, 244], [516, 769, 178, 186], [683, 750, 249, 232], [588, 915, 168, 174], [584, 910, 179, 181], [580, 911, 177, 193], [409, 912, 256, 388], [736, 952, 285, 307], [740, 968, 309, 289], [760, 969, 299, 287], [420, 967, 273, 356], [740, 970, 301, 290], [516, 772, 181, 181], [523, 765, 166, 195], [687, 739, 234, 248], [689, 729, 235, 256], [518, 773, 178, 176], [685, 722, 249, 286], [587, 916, 175, 178], [580, 918, 182, 172], [575, 915, 186, 182], [396, 854, 293, 498], [753, 959, 279, 306], [740, 966, 340, 267], [398, 897, 311, 521], [739, 958, 312, 315], [532, 774, 170, 169], [521, 775, 182, 164], [705, 747, 229, 212], [691, 754, 250, 200], [600, 920, 160, 163], [602, 931, 148, 146], [595, 906, 174, 171], [734, 979, 330, 267], [737, 955, 327, 286]]\n"
     ]
    }
   ],
   "source": [
    "print(boxes_np)"
   ]
  },
  {
   "cell_type": "code",
   "execution_count": 13,
   "id": "19e80638",
   "metadata": {},
   "outputs": [],
   "source": [
    "# print(\"Number of bounding boxes created:\",len(boxes_np))\n",
    "# print(\"Number of selected bounding boxes:\",len(index))\n",
    "\n",
    "# selected_boxes = [boxes_np[i] for i in index]\n",
    "# selected_boxes"
   ]
  },
  {
   "cell_type": "markdown",
   "id": "e32eeca6",
   "metadata": {},
   "source": [
    "Why is there a discrepancy between the number of bounding boxes created and the selected bounding boxes?\n",
    "\n",
    "- There is overlapping or close bounding boxes, resulting in removal of low-importance bounding boxes. \n",
    "\n",
    "To extract the important bounding boxes, use:\n",
    "\n",
    "`cv2.dnn.NMSBoxes(boxes_np, confidences_np, 0.25, 0.45).flatten()`\n",
    "\n",
    "Afterward, extract the bounding boxes with the code:\n",
    "\n",
    "`[boxes_np[i] for i in index]`"
   ]
  },
  {
   "cell_type": "code",
   "execution_count": 14,
   "id": "632a43c0",
   "metadata": {},
   "outputs": [],
   "source": [
    "# Draw Bounding Box of each prediction box that has confidence and probability of > 0.5\n",
    "locations = []\n",
    "\n",
    "# Each index \n",
    "for ind in index:\n",
    "    x,y,w,h = boxes_np[ind]\n",
    "    locations.append(boxes_np[ind])\n",
    "    bb_conf = (confidences_np[ind]*100)\n",
    "    classes_id = classes[ind]\n",
    "    class_name = labels[classes_id]\n",
    "    \n",
    "    text = f'{class_name}: {bb_conf}%'\n",
    "    cv2.rectangle(image, (x,y), (x+w, y+h), (0,255,0), 2)\n",
    "    cv2.rectangle(image,(x,y-30),(x+w,y), (255,255,255), -1)\n",
    "    cv2.putText(image,text,(x,y-10), cv2.FONT_HERSHEY_PLAIN, 0.7, (0,0,0), 1)"
   ]
  },
  {
   "cell_type": "code",
   "execution_count": 15,
   "id": "233fa292",
   "metadata": {},
   "outputs": [],
   "source": [
    "cv2.imshow('yolo_prediction', image)\n",
    "cv2.waitKey(0)\n",
    "cv2.destroyAllWindows()"
   ]
  },
  {
   "cell_type": "code",
   "execution_count": null,
   "id": "b188e342",
   "metadata": {},
   "outputs": [],
   "source": []
  }
 ],
 "metadata": {
  "kernelspec": {
   "display_name": "Python 3 (ipykernel)",
   "language": "python",
   "name": "python3"
  },
  "language_info": {
   "codemirror_mode": {
    "name": "ipython",
    "version": 3
   },
   "file_extension": ".py",
   "mimetype": "text/x-python",
   "name": "python",
   "nbconvert_exporter": "python",
   "pygments_lexer": "ipython3",
   "version": "3.9.13"
  }
 },
 "nbformat": 4,
 "nbformat_minor": 5
}
