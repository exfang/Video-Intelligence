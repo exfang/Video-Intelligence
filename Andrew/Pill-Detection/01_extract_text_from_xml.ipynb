{
 "cells": [
  {
   "cell_type": "markdown",
   "id": "1966e00f",
   "metadata": {},
   "source": [
    "Dataset: https://www.kaggle.com/datasets/perfect9015/pillsdetectiondataset"
   ]
  },
  {
   "cell_type": "code",
   "execution_count": 1,
   "id": "8f596159",
   "metadata": {},
   "outputs": [],
   "source": [
    "import os\n",
    "from glob import glob\n",
    "import pandas as pd\n",
    "from functools import reduce\n",
    "from xml.etree import ElementTree as et"
   ]
  },
  {
   "cell_type": "code",
   "execution_count": 17,
   "id": "454dc450",
   "metadata": {},
   "outputs": [
    {
     "name": "stdout",
     "output_type": "stream",
     "text": [
      "./pills image\\360_F_408781728_pROdGsAa6GSKe7iw1ah0CkgeZ1HU829o.xml\n",
      "./pills image/360_F_408781728_pROdGsAa6GSKe7iw1ah0CkgeZ1HU829o.xml\n"
     ]
    }
   ],
   "source": [
    "# Load all XML files and store in a list\n",
    "xml_list = glob(\"./pills image/*.xml\")\n",
    "print(xml_list[0])\n",
    "\n",
    "# Convert the \"\\\" in the directory to \"/\"\n",
    "xml_list = list(map(lambda x: x.replace('\\\\','/'),xml_list))\n",
    "print(xml_list[0])"
   ]
  },
  {
   "cell_type": "code",
   "execution_count": 19,
   "id": "7087add1",
   "metadata": {},
   "outputs": [],
   "source": [
    "# From each XML file, extract filename, size(width,height), and object(name, xmin, xmax, ymin, ymax)\n",
    "\n",
    "def extract_text(filename):\n",
    "    \n",
    "    # Parse the XML file\n",
    "    tree = et.parse(filename)\n",
    "\n",
    "    # Enter the root element to access the other attributes such as filename, size, etc.\n",
    "    root = tree.getroot()\n",
    "\n",
    "    # Extract the filename\n",
    "    image_name = root.find('filename').text\n",
    "\n",
    "    # Extract the width and height of the image\n",
    "    width = root.find('size').find('width').text\n",
    "    height = root.find('size').find('height').text\n",
    "\n",
    "    # getting the object(name, xmin, xmax, ymin, ymax)\n",
    "    # some XML files have multiple objects, aka multiple pills. Therefore, require for loop to retrieve all object locations.\n",
    "    objs = root.findall('object')\n",
    "    parser = []\n",
    "    for obj in objs:\n",
    "        name = obj.find('name').text\n",
    "        bndbox = obj.find('bndbox')\n",
    "        xmin = bndbox.find('xmin').text\n",
    "        xmax = bndbox.find('xmax').text\n",
    "        ymin = bndbox.find('ymin').text\n",
    "        ymax = bndbox.find('ymax').text\n",
    "        parser.append([image_name, width, height, name, xmin, xmax, ymin, ymax])\n",
    "    \n",
    "    return parser"
   ]
  },
  {
   "cell_type": "code",
   "execution_count": 20,
   "id": "293abd3b",
   "metadata": {},
   "outputs": [],
   "source": [
    "parser_all = list(map(extract_text, xml_list))"
   ]
  },
  {
   "cell_type": "code",
   "execution_count": 21,
   "id": "fcac48a6",
   "metadata": {},
   "outputs": [],
   "source": [
    "data = reduce(lambda x,y: x+y, parser_all)"
   ]
  },
  {
   "cell_type": "code",
   "execution_count": 27,
   "id": "6104b31e",
   "metadata": {},
   "outputs": [
    {
     "name": "stdout",
     "output_type": "stream",
     "text": [
      "(686, 8)\n"
     ]
    },
    {
     "data": {
      "text/html": [
       "<div>\n",
       "<style scoped>\n",
       "    .dataframe tbody tr th:only-of-type {\n",
       "        vertical-align: middle;\n",
       "    }\n",
       "\n",
       "    .dataframe tbody tr th {\n",
       "        vertical-align: top;\n",
       "    }\n",
       "\n",
       "    .dataframe thead th {\n",
       "        text-align: right;\n",
       "    }\n",
       "</style>\n",
       "<table border=\"1\" class=\"dataframe\">\n",
       "  <thead>\n",
       "    <tr style=\"text-align: right;\">\n",
       "      <th></th>\n",
       "      <th>filename</th>\n",
       "      <th>width</th>\n",
       "      <th>height</th>\n",
       "      <th>name</th>\n",
       "      <th>xmin</th>\n",
       "      <th>xmax</th>\n",
       "      <th>ymin</th>\n",
       "      <th>ymax</th>\n",
       "    </tr>\n",
       "  </thead>\n",
       "  <tbody>\n",
       "    <tr>\n",
       "      <th>0</th>\n",
       "      <td>360_F_408781728_pROdGsAa6GSKe7iw1ah0CkgeZ1HU82...</td>\n",
       "      <td>540</td>\n",
       "      <td>360</td>\n",
       "      <td>tablets</td>\n",
       "      <td>233</td>\n",
       "      <td>273</td>\n",
       "      <td>218</td>\n",
       "      <td>255</td>\n",
       "    </tr>\n",
       "    <tr>\n",
       "      <th>1</th>\n",
       "      <td>360_F_408781728_pROdGsAa6GSKe7iw1ah0CkgeZ1HU82...</td>\n",
       "      <td>540</td>\n",
       "      <td>360</td>\n",
       "      <td>tablets</td>\n",
       "      <td>282</td>\n",
       "      <td>299</td>\n",
       "      <td>223</td>\n",
       "      <td>240</td>\n",
       "    </tr>\n",
       "    <tr>\n",
       "      <th>2</th>\n",
       "      <td>360_F_408781728_pROdGsAa6GSKe7iw1ah0CkgeZ1HU82...</td>\n",
       "      <td>540</td>\n",
       "      <td>360</td>\n",
       "      <td>tablets</td>\n",
       "      <td>287</td>\n",
       "      <td>302</td>\n",
       "      <td>240</td>\n",
       "      <td>253</td>\n",
       "    </tr>\n",
       "    <tr>\n",
       "      <th>3</th>\n",
       "      <td>360_F_408781728_pROdGsAa6GSKe7iw1ah0CkgeZ1HU82...</td>\n",
       "      <td>540</td>\n",
       "      <td>360</td>\n",
       "      <td>tablets</td>\n",
       "      <td>315</td>\n",
       "      <td>341</td>\n",
       "      <td>224</td>\n",
       "      <td>250</td>\n",
       "    </tr>\n",
       "    <tr>\n",
       "      <th>4</th>\n",
       "      <td>5b9bd9351f00002c002100a3.jpeg</td>\n",
       "      <td>720</td>\n",
       "      <td>480</td>\n",
       "      <td>tablets</td>\n",
       "      <td>347</td>\n",
       "      <td>390</td>\n",
       "      <td>267</td>\n",
       "      <td>312</td>\n",
       "    </tr>\n",
       "  </tbody>\n",
       "</table>\n",
       "</div>"
      ],
      "text/plain": [
       "                                            filename width height     name  \\\n",
       "0  360_F_408781728_pROdGsAa6GSKe7iw1ah0CkgeZ1HU82...   540    360  tablets   \n",
       "1  360_F_408781728_pROdGsAa6GSKe7iw1ah0CkgeZ1HU82...   540    360  tablets   \n",
       "2  360_F_408781728_pROdGsAa6GSKe7iw1ah0CkgeZ1HU82...   540    360  tablets   \n",
       "3  360_F_408781728_pROdGsAa6GSKe7iw1ah0CkgeZ1HU82...   540    360  tablets   \n",
       "4                      5b9bd9351f00002c002100a3.jpeg   720    480  tablets   \n",
       "\n",
       "  xmin xmax ymin ymax  \n",
       "0  233  273  218  255  \n",
       "1  282  299  223  240  \n",
       "2  287  302  240  253  \n",
       "3  315  341  224  250  \n",
       "4  347  390  267  312  "
      ]
     },
     "execution_count": 27,
     "metadata": {},
     "output_type": "execute_result"
    }
   ],
   "source": [
    "df = pd.DataFrame(data, columns=['filename', 'width', 'height', 'name', 'xmin', 'xmax', 'ymin', 'ymax'])\n",
    "print(df.shape)\n",
    "df.head()"
   ]
  },
  {
   "cell_type": "code",
   "execution_count": 33,
   "id": "ee511df8",
   "metadata": {},
   "outputs": [
    {
     "name": "stdout",
     "output_type": "stream",
     "text": [
      "<class 'pandas.core.frame.DataFrame'>\n",
      "RangeIndex: 686 entries, 0 to 685\n",
      "Data columns (total 8 columns):\n",
      " #   Column    Non-Null Count  Dtype \n",
      "---  ------    --------------  ----- \n",
      " 0   filename  686 non-null    object\n",
      " 1   width     686 non-null    int32 \n",
      " 2   height    686 non-null    int32 \n",
      " 3   name      686 non-null    object\n",
      " 4   xmin      686 non-null    int32 \n",
      " 5   xmax      686 non-null    int32 \n",
      " 6   ymin      686 non-null    int32 \n",
      " 7   ymax      686 non-null    int32 \n",
      "dtypes: int32(6), object(2)\n",
      "memory usage: 26.9+ KB\n"
     ]
    }
   ],
   "source": [
    "cols = ['width', 'height', 'xmin', 'xmax', 'ymin', 'ymax']\n",
    "df[cols] = df[cols].astype(int)\n",
    "df.info()"
   ]
  },
  {
   "cell_type": "code",
   "execution_count": 34,
   "id": "752b583e",
   "metadata": {},
   "outputs": [
    {
     "data": {
      "text/html": [
       "<div>\n",
       "<style scoped>\n",
       "    .dataframe tbody tr th:only-of-type {\n",
       "        vertical-align: middle;\n",
       "    }\n",
       "\n",
       "    .dataframe tbody tr th {\n",
       "        vertical-align: top;\n",
       "    }\n",
       "\n",
       "    .dataframe thead th {\n",
       "        text-align: right;\n",
       "    }\n",
       "</style>\n",
       "<table border=\"1\" class=\"dataframe\">\n",
       "  <thead>\n",
       "    <tr style=\"text-align: right;\">\n",
       "      <th></th>\n",
       "      <th>filename</th>\n",
       "      <th>width</th>\n",
       "      <th>height</th>\n",
       "      <th>name</th>\n",
       "      <th>xmin</th>\n",
       "      <th>xmax</th>\n",
       "      <th>ymin</th>\n",
       "      <th>ymax</th>\n",
       "      <th>center_x</th>\n",
       "      <th>center_y</th>\n",
       "      <th>w</th>\n",
       "      <th>h</th>\n",
       "    </tr>\n",
       "  </thead>\n",
       "  <tbody>\n",
       "    <tr>\n",
       "      <th>0</th>\n",
       "      <td>360_F_408781728_pROdGsAa6GSKe7iw1ah0CkgeZ1HU82...</td>\n",
       "      <td>540</td>\n",
       "      <td>360</td>\n",
       "      <td>tablets</td>\n",
       "      <td>233</td>\n",
       "      <td>273</td>\n",
       "      <td>218</td>\n",
       "      <td>255</td>\n",
       "      <td>0.468519</td>\n",
       "      <td>0.656944</td>\n",
       "      <td>0.074074</td>\n",
       "      <td>0.102778</td>\n",
       "    </tr>\n",
       "    <tr>\n",
       "      <th>1</th>\n",
       "      <td>360_F_408781728_pROdGsAa6GSKe7iw1ah0CkgeZ1HU82...</td>\n",
       "      <td>540</td>\n",
       "      <td>360</td>\n",
       "      <td>tablets</td>\n",
       "      <td>282</td>\n",
       "      <td>299</td>\n",
       "      <td>223</td>\n",
       "      <td>240</td>\n",
       "      <td>0.537963</td>\n",
       "      <td>0.643056</td>\n",
       "      <td>0.031481</td>\n",
       "      <td>0.047222</td>\n",
       "    </tr>\n",
       "    <tr>\n",
       "      <th>2</th>\n",
       "      <td>360_F_408781728_pROdGsAa6GSKe7iw1ah0CkgeZ1HU82...</td>\n",
       "      <td>540</td>\n",
       "      <td>360</td>\n",
       "      <td>tablets</td>\n",
       "      <td>287</td>\n",
       "      <td>302</td>\n",
       "      <td>240</td>\n",
       "      <td>253</td>\n",
       "      <td>0.545370</td>\n",
       "      <td>0.684722</td>\n",
       "      <td>0.027778</td>\n",
       "      <td>0.036111</td>\n",
       "    </tr>\n",
       "    <tr>\n",
       "      <th>3</th>\n",
       "      <td>360_F_408781728_pROdGsAa6GSKe7iw1ah0CkgeZ1HU82...</td>\n",
       "      <td>540</td>\n",
       "      <td>360</td>\n",
       "      <td>tablets</td>\n",
       "      <td>315</td>\n",
       "      <td>341</td>\n",
       "      <td>224</td>\n",
       "      <td>250</td>\n",
       "      <td>0.607407</td>\n",
       "      <td>0.658333</td>\n",
       "      <td>0.048148</td>\n",
       "      <td>0.072222</td>\n",
       "    </tr>\n",
       "    <tr>\n",
       "      <th>4</th>\n",
       "      <td>5b9bd9351f00002c002100a3.jpeg</td>\n",
       "      <td>720</td>\n",
       "      <td>480</td>\n",
       "      <td>tablets</td>\n",
       "      <td>347</td>\n",
       "      <td>390</td>\n",
       "      <td>267</td>\n",
       "      <td>312</td>\n",
       "      <td>0.511806</td>\n",
       "      <td>0.603125</td>\n",
       "      <td>0.059722</td>\n",
       "      <td>0.093750</td>\n",
       "    </tr>\n",
       "  </tbody>\n",
       "</table>\n",
       "</div>"
      ],
      "text/plain": [
       "                                            filename  width  height     name  \\\n",
       "0  360_F_408781728_pROdGsAa6GSKe7iw1ah0CkgeZ1HU82...    540     360  tablets   \n",
       "1  360_F_408781728_pROdGsAa6GSKe7iw1ah0CkgeZ1HU82...    540     360  tablets   \n",
       "2  360_F_408781728_pROdGsAa6GSKe7iw1ah0CkgeZ1HU82...    540     360  tablets   \n",
       "3  360_F_408781728_pROdGsAa6GSKe7iw1ah0CkgeZ1HU82...    540     360  tablets   \n",
       "4                      5b9bd9351f00002c002100a3.jpeg    720     480  tablets   \n",
       "\n",
       "   xmin  xmax  ymin  ymax  center_x  center_y         w         h  \n",
       "0   233   273   218   255  0.468519  0.656944  0.074074  0.102778  \n",
       "1   282   299   223   240  0.537963  0.643056  0.031481  0.047222  \n",
       "2   287   302   240   253  0.545370  0.684722  0.027778  0.036111  \n",
       "3   315   341   224   250  0.607407  0.658333  0.048148  0.072222  \n",
       "4   347   390   267   312  0.511806  0.603125  0.059722  0.093750  "
      ]
     },
     "execution_count": 34,
     "metadata": {},
     "output_type": "execute_result"
    }
   ],
   "source": [
    "# center x, center y\n",
    "df['center_x'] = ((df['xmax']+df['xmin'])/2)/df['width']\n",
    "df['center_y'] = ((df['ymax']+df['ymin'])/2)/df['height']\n",
    "\n",
    "# w\n",
    "df['w'] = (df['xmax']-df['xmin'])/df['width']\n",
    "# h \n",
    "df['h'] = (df['ymax']-df['ymin'])/df['height']\n",
    "df.head()"
   ]
  },
  {
   "cell_type": "markdown",
   "id": "cfc93445",
   "metadata": {},
   "source": [
    "# Split data into train and test set"
   ]
  },
  {
   "cell_type": "code",
   "execution_count": 35,
   "id": "ca3d4b90",
   "metadata": {},
   "outputs": [],
   "source": [
    "images = df['filename'].unique()"
   ]
  },
  {
   "cell_type": "code",
   "execution_count": 40,
   "id": "a5931eaf",
   "metadata": {},
   "outputs": [],
   "source": [
    "# 80% train and 20% test\n",
    "img_df = pd.DataFrame(images, columns=['filename'])\n",
    "img_train = tuple(img_df.sample(frac=0.8)['filename']) # shuffle and pick 80% of images"
   ]
  },
  {
   "cell_type": "code",
   "execution_count": 42,
   "id": "185e21be",
   "metadata": {},
   "outputs": [],
   "source": [
    "img_test = tuple(img_df.query(f'filename not in {img_train}')['filename']) # take rest 20% images"
   ]
  },
  {
   "cell_type": "code",
   "execution_count": 45,
   "id": "784f3780",
   "metadata": {},
   "outputs": [],
   "source": [
    "train_df = df.query(f'filename in {img_train}')\n",
    "test_df = df.query(f'filename in {img_test}')"
   ]
  },
  {
   "cell_type": "markdown",
   "id": "16be4860",
   "metadata": {},
   "source": [
    "# Assign ID Number to Names (Encoding)"
   ]
  },
  {
   "cell_type": "code",
   "execution_count": 50,
   "id": "248af6a2",
   "metadata": {},
   "outputs": [
    {
     "name": "stderr",
     "output_type": "stream",
     "text": [
      "C:\\Users\\fangg\\AppData\\Local\\Temp\\ipykernel_13624\\1731132586.py:1: SettingWithCopyWarning: \n",
      "A value is trying to be set on a copy of a slice from a DataFrame.\n",
      "Try using .loc[row_indexer,col_indexer] = value instead\n",
      "\n",
      "See the caveats in the documentation: https://pandas.pydata.org/pandas-docs/stable/user_guide/indexing.html#returning-a-view-versus-a-copy\n",
      "  train_df['id'] = 0\n",
      "C:\\Users\\fangg\\AppData\\Local\\Temp\\ipykernel_13624\\1731132586.py:2: SettingWithCopyWarning: \n",
      "A value is trying to be set on a copy of a slice from a DataFrame.\n",
      "Try using .loc[row_indexer,col_indexer] = value instead\n",
      "\n",
      "See the caveats in the documentation: https://pandas.pydata.org/pandas-docs/stable/user_guide/indexing.html#returning-a-view-versus-a-copy\n",
      "  test_df['id'] = 0\n"
     ]
    }
   ],
   "source": [
    "train_df['id'] = 0\n",
    "test_df['id'] = 0"
   ]
  },
  {
   "cell_type": "code",
   "execution_count": 51,
   "id": "f46fcb8d",
   "metadata": {},
   "outputs": [],
   "source": [
    "import os\n",
    "from shutil import move"
   ]
  },
  {
   "cell_type": "code",
   "execution_count": 57,
   "id": "5990c423",
   "metadata": {},
   "outputs": [],
   "source": [
    "train_folder = 'pills image/train'\n",
    "test_folder = 'pills image/test'\n",
    "\n",
    "os.mkdir(train_folder)\n",
    "os.mkdir(test_folder)"
   ]
  },
  {
   "cell_type": "code",
   "execution_count": 54,
   "id": "ce472420",
   "metadata": {},
   "outputs": [],
   "source": [
    "cols = ['filename', 'id', 'center_x', 'center_y', 'w', 'h']\n",
    "groupby_obj_train = train_df[cols].groupby('filename')\n",
    "groupby_obj_test = test_df[cols].groupby('filename')"
   ]
  },
  {
   "cell_type": "code",
   "execution_count": 58,
   "id": "53b6b442",
   "metadata": {},
   "outputs": [],
   "source": [
    "# groupby_obj_train.get_group('5b9bd9351f00002c002100a3.jpeg').set_index('filename').to_csv('sample.txt', index=False, header=False)\n",
    "# save each image in train/test folder and respective labels in .txt\n",
    "\n",
    "def save_data(filename, folder_path, group_obj):\n",
    "    src = os.path.join('pills image', filename)\n",
    "    dst = os.path.join(folder_path, filename)\n",
    "    move(src, dst) # move images to the destination folder\n",
    "    \n",
    "    # save the labels\n",
    "    text_filename = os.path.join(folder_path, os.path.splitext(filename)[0]+'.txt')\n",
    "    group_obj.get_group(filename).set_index('filename').to_csv(text_filename, sep=\" \", index=False, header=False)"
   ]
  },
  {
   "cell_type": "code",
   "execution_count": 66,
   "id": "8694a171",
   "metadata": {},
   "outputs": [
    {
     "data": {
      "text/plain": [
       "0      None\n",
       "1      None\n",
       "2      None\n",
       "3      None\n",
       "4      None\n",
       "       ... \n",
       "117    None\n",
       "118    None\n",
       "119    None\n",
       "120    None\n",
       "121    None\n",
       "Length: 122, dtype: object"
      ]
     },
     "execution_count": 66,
     "metadata": {},
     "output_type": "execute_result"
    }
   ],
   "source": [
    "# move the train to train folder\n",
    "filename_series = pd.Series(groupby_obj_train.groups.keys())\n",
    "filename_series.apply(save_data, args=(train_folder, groupby_obj_train))"
   ]
  },
  {
   "cell_type": "code",
   "execution_count": 67,
   "id": "75a15904",
   "metadata": {},
   "outputs": [
    {
     "data": {
      "text/plain": [
       "0     None\n",
       "1     None\n",
       "2     None\n",
       "3     None\n",
       "4     None\n",
       "5     None\n",
       "6     None\n",
       "7     None\n",
       "8     None\n",
       "9     None\n",
       "10    None\n",
       "11    None\n",
       "12    None\n",
       "13    None\n",
       "14    None\n",
       "15    None\n",
       "16    None\n",
       "17    None\n",
       "18    None\n",
       "19    None\n",
       "20    None\n",
       "21    None\n",
       "22    None\n",
       "23    None\n",
       "24    None\n",
       "25    None\n",
       "26    None\n",
       "27    None\n",
       "28    None\n",
       "29    None\n",
       "dtype: object"
      ]
     },
     "execution_count": 67,
     "metadata": {},
     "output_type": "execute_result"
    }
   ],
   "source": [
    "# move the train to train folder\n",
    "filename_series = pd.Series(groupby_obj_test.groups.keys())\n",
    "filename_series.apply(save_data, args=(test_folder, groupby_obj_test))"
   ]
  },
  {
   "cell_type": "code",
   "execution_count": null,
   "id": "e670be18",
   "metadata": {},
   "outputs": [],
   "source": []
  }
 ],
 "metadata": {
  "kernelspec": {
   "display_name": "Python 3 (ipykernel)",
   "language": "python",
   "name": "python3"
  },
  "language_info": {
   "codemirror_mode": {
    "name": "ipython",
    "version": 3
   },
   "file_extension": ".py",
   "mimetype": "text/x-python",
   "name": "python",
   "nbconvert_exporter": "python",
   "pygments_lexer": "ipython3",
   "version": "3.9.13"
  }
 },
 "nbformat": 4,
 "nbformat_minor": 5
}
